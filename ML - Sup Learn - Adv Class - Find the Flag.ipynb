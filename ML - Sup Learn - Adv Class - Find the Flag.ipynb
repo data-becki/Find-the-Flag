{
 "cells": [
  {
   "cell_type": "markdown",
   "id": "43e31d78",
   "metadata": {},
   "source": [
    "## Find the Flag\n",
    "\n",
    "Can you guess which continent this flag comes from?\n",
    "\n",
    "<img src= \"reunion.jpg\" alt = \"Flag of Reunion\" width=\"400\">\n",
    "\n",
    "What are some of the features that would clue you in? Maybe some of the colors are good indicators. The presence or absence of certain shapes could give you a hint. In this project, we’ll use decision trees to try to predict the continent of flags based on several of these features.\n",
    "\n",
    "We’ll explore which features are the best to use and the best way to create your decision tree."
   ]
  },
  {
   "cell_type": "code",
   "execution_count": 1,
   "id": "92a328bc",
   "metadata": {},
   "outputs": [],
   "source": [
    "import pandas as pd\n",
    "from sklearn.model_selection import train_test_split\n",
    "from sklearn.tree import DecisionTreeClassifier\n",
    "import matplotlib.pyplot as plt"
   ]
  },
  {
   "cell_type": "markdown",
   "id": "51b6bca5",
   "metadata": {},
   "source": [
    "## Investigate the Data"
   ]
  },
  {
   "cell_type": "markdown",
   "id": "021d047c",
   "metadata": {},
   "source": [
    "1. Let’s start by seeing what the data looks like. Begin by loading the data into a variable named `flags` using Panda’s `pd.read_csv()` function. The function should take the name of the CSV file you want to load. In this case, our file is named `\"flags.csv\"`.\n",
    "\n",
    "    We also want row `0` to be used as the header, so include the parameter `header = 0`.\n"
   ]
  },
  {
   "cell_type": "code",
   "execution_count": 2,
   "id": "cfd94039",
   "metadata": {},
   "outputs": [],
   "source": [
    "flags = pd.read_csv('flags.csv', header = 0)"
   ]
  },
  {
   "cell_type": "markdown",
   "id": "125f77a4",
   "metadata": {},
   "source": [
    "2. Take a look at the names of the columns in our DataFrame. These are the features we have available to us. Print `flags.columns`.\n",
    "\n",
    "    Let’s also take a look at the first few rows of the dataset. Print `flags.head()`.\n"
   ]
  },
  {
   "cell_type": "code",
   "execution_count": 3,
   "id": "78e33177",
   "metadata": {},
   "outputs": [
    {
     "data": {
      "text/plain": [
       "Index(['Name', 'Landmass', 'Zone', 'Area', 'Population', 'Language',\n",
       "       'Religion', 'Bars', 'Stripes', 'Colors', 'Red', 'Green', 'Blue', 'Gold',\n",
       "       'White', 'Black', 'Orange', 'Mainhue', 'Circles', 'Crosses', 'Saltires',\n",
       "       'Quarters', 'Sunstars', 'Crescent', 'Triangle', 'Icon', 'Animate',\n",
       "       'Text', 'Topleft', 'Botright'],\n",
       "      dtype='object')"
      ]
     },
     "execution_count": 3,
     "metadata": {},
     "output_type": "execute_result"
    }
   ],
   "source": [
    "flags.columns"
   ]
  },
  {
   "cell_type": "code",
   "execution_count": 4,
   "id": "9753df9a",
   "metadata": {
    "scrolled": true
   },
   "outputs": [
    {
     "data": {
      "text/html": [
       "<div>\n",
       "<style scoped>\n",
       "    .dataframe tbody tr th:only-of-type {\n",
       "        vertical-align: middle;\n",
       "    }\n",
       "\n",
       "    .dataframe tbody tr th {\n",
       "        vertical-align: top;\n",
       "    }\n",
       "\n",
       "    .dataframe thead th {\n",
       "        text-align: right;\n",
       "    }\n",
       "</style>\n",
       "<table border=\"1\" class=\"dataframe\">\n",
       "  <thead>\n",
       "    <tr style=\"text-align: right;\">\n",
       "      <th></th>\n",
       "      <th>Name</th>\n",
       "      <th>Landmass</th>\n",
       "      <th>Zone</th>\n",
       "      <th>Area</th>\n",
       "      <th>Population</th>\n",
       "      <th>Language</th>\n",
       "      <th>Religion</th>\n",
       "      <th>Bars</th>\n",
       "      <th>Stripes</th>\n",
       "      <th>Colors</th>\n",
       "      <th>...</th>\n",
       "      <th>Saltires</th>\n",
       "      <th>Quarters</th>\n",
       "      <th>Sunstars</th>\n",
       "      <th>Crescent</th>\n",
       "      <th>Triangle</th>\n",
       "      <th>Icon</th>\n",
       "      <th>Animate</th>\n",
       "      <th>Text</th>\n",
       "      <th>Topleft</th>\n",
       "      <th>Botright</th>\n",
       "    </tr>\n",
       "  </thead>\n",
       "  <tbody>\n",
       "    <tr>\n",
       "      <th>0</th>\n",
       "      <td>Afghanistan</td>\n",
       "      <td>5</td>\n",
       "      <td>1</td>\n",
       "      <td>648</td>\n",
       "      <td>16</td>\n",
       "      <td>10</td>\n",
       "      <td>2</td>\n",
       "      <td>0</td>\n",
       "      <td>3</td>\n",
       "      <td>5</td>\n",
       "      <td>...</td>\n",
       "      <td>0</td>\n",
       "      <td>0</td>\n",
       "      <td>1</td>\n",
       "      <td>0</td>\n",
       "      <td>0</td>\n",
       "      <td>1</td>\n",
       "      <td>0</td>\n",
       "      <td>0</td>\n",
       "      <td>black</td>\n",
       "      <td>green</td>\n",
       "    </tr>\n",
       "    <tr>\n",
       "      <th>1</th>\n",
       "      <td>Albania</td>\n",
       "      <td>3</td>\n",
       "      <td>1</td>\n",
       "      <td>29</td>\n",
       "      <td>3</td>\n",
       "      <td>6</td>\n",
       "      <td>6</td>\n",
       "      <td>0</td>\n",
       "      <td>0</td>\n",
       "      <td>3</td>\n",
       "      <td>...</td>\n",
       "      <td>0</td>\n",
       "      <td>0</td>\n",
       "      <td>1</td>\n",
       "      <td>0</td>\n",
       "      <td>0</td>\n",
       "      <td>0</td>\n",
       "      <td>1</td>\n",
       "      <td>0</td>\n",
       "      <td>red</td>\n",
       "      <td>red</td>\n",
       "    </tr>\n",
       "    <tr>\n",
       "      <th>2</th>\n",
       "      <td>Algeria</td>\n",
       "      <td>4</td>\n",
       "      <td>1</td>\n",
       "      <td>2388</td>\n",
       "      <td>20</td>\n",
       "      <td>8</td>\n",
       "      <td>2</td>\n",
       "      <td>2</td>\n",
       "      <td>0</td>\n",
       "      <td>3</td>\n",
       "      <td>...</td>\n",
       "      <td>0</td>\n",
       "      <td>0</td>\n",
       "      <td>1</td>\n",
       "      <td>1</td>\n",
       "      <td>0</td>\n",
       "      <td>0</td>\n",
       "      <td>0</td>\n",
       "      <td>0</td>\n",
       "      <td>green</td>\n",
       "      <td>white</td>\n",
       "    </tr>\n",
       "    <tr>\n",
       "      <th>3</th>\n",
       "      <td>American-Samoa</td>\n",
       "      <td>6</td>\n",
       "      <td>3</td>\n",
       "      <td>0</td>\n",
       "      <td>0</td>\n",
       "      <td>1</td>\n",
       "      <td>1</td>\n",
       "      <td>0</td>\n",
       "      <td>0</td>\n",
       "      <td>5</td>\n",
       "      <td>...</td>\n",
       "      <td>0</td>\n",
       "      <td>0</td>\n",
       "      <td>0</td>\n",
       "      <td>0</td>\n",
       "      <td>1</td>\n",
       "      <td>1</td>\n",
       "      <td>1</td>\n",
       "      <td>0</td>\n",
       "      <td>blue</td>\n",
       "      <td>red</td>\n",
       "    </tr>\n",
       "    <tr>\n",
       "      <th>4</th>\n",
       "      <td>Andorra</td>\n",
       "      <td>3</td>\n",
       "      <td>1</td>\n",
       "      <td>0</td>\n",
       "      <td>0</td>\n",
       "      <td>6</td>\n",
       "      <td>0</td>\n",
       "      <td>3</td>\n",
       "      <td>0</td>\n",
       "      <td>3</td>\n",
       "      <td>...</td>\n",
       "      <td>0</td>\n",
       "      <td>0</td>\n",
       "      <td>0</td>\n",
       "      <td>0</td>\n",
       "      <td>0</td>\n",
       "      <td>0</td>\n",
       "      <td>0</td>\n",
       "      <td>0</td>\n",
       "      <td>blue</td>\n",
       "      <td>red</td>\n",
       "    </tr>\n",
       "  </tbody>\n",
       "</table>\n",
       "<p>5 rows × 30 columns</p>\n",
       "</div>"
      ],
      "text/plain": [
       "             Name  Landmass  Zone  Area  Population  Language  Religion  Bars  \\\n",
       "0     Afghanistan         5     1   648          16        10         2     0   \n",
       "1         Albania         3     1    29           3         6         6     0   \n",
       "2         Algeria         4     1  2388          20         8         2     2   \n",
       "3  American-Samoa         6     3     0           0         1         1     0   \n",
       "4         Andorra         3     1     0           0         6         0     3   \n",
       "\n",
       "   Stripes  Colors  ...  Saltires  Quarters  Sunstars  Crescent  Triangle  \\\n",
       "0        3       5  ...         0         0         1         0         0   \n",
       "1        0       3  ...         0         0         1         0         0   \n",
       "2        0       3  ...         0         0         1         1         0   \n",
       "3        0       5  ...         0         0         0         0         1   \n",
       "4        0       3  ...         0         0         0         0         0   \n",
       "\n",
       "   Icon  Animate Text  Topleft  Botright  \n",
       "0     1        0    0    black     green  \n",
       "1     0        1    0      red       red  \n",
       "2     0        0    0    green     white  \n",
       "3     1        1    0     blue       red  \n",
       "4     0        0    0     blue       red  \n",
       "\n",
       "[5 rows x 30 columns]"
      ]
     },
     "execution_count": 4,
     "metadata": {},
     "output_type": "execute_result"
    }
   ],
   "source": [
    "flags.head()"
   ]
  },
  {
   "cell_type": "markdown",
   "id": "d774483b",
   "metadata": {},
   "source": [
    "3. Many columns contain numbers that don’t make a lot of sense. For example, the third row, which represents Algeria, has a `Language` of `8`. What exactly does that mean?\n",
    "\n",
    "    Take a look at the Attribute Information for this dataset from UCI’s Machine Learning Repository (http://archive.ics.uci.edu/ml/datasets/Flags).\n",
    "\n",
    "    Using that information along with the printout of `flags.head()`, can you figure out what landmass Andorra is on?\n"
   ]
  },
  {
   "cell_type": "code",
   "execution_count": 5,
   "id": "521a4a1f",
   "metadata": {},
   "outputs": [],
   "source": [
    "# Arabic language\n",
    "\n",
    "# Europe"
   ]
  },
  {
   "cell_type": "markdown",
   "id": "df5c5658",
   "metadata": {},
   "source": [
    "## Creating Your Data and Labels"
   ]
  },
  {
   "cell_type": "markdown",
   "id": "c2362939",
   "metadata": {},
   "source": [
    "4. We’re eventually going to use create a decision tree to classify what `Landmass` a country is on.\n",
    "\n",
    "    Create a variable named `labels` and set it equal to only the `\"Landmass\"` column from `flags`.\n",
    "\n",
    "    You can grab specific columns from a DataFrame using this syntax:\n",
    "\n",
    "        one_column = df[[\"A\"]]\n",
    "        two_columns = df[[\"B\", \"C\"]]\n",
    "\n",
    "    In this example, `one_column` will be a DataFrame of only `df`‘s `\"A\"` column. `two_columns` will be a DataFrame of the `\"B\"` and `\"C\"` columns from `df`.\n"
   ]
  },
  {
   "cell_type": "code",
   "execution_count": 6,
   "id": "dbb879e5",
   "metadata": {},
   "outputs": [],
   "source": [
    "labels = flags[[\"Landmass\"]]"
   ]
  },
  {
   "cell_type": "markdown",
   "id": "c3d121bf",
   "metadata": {},
   "source": [
    "5. We have our labels. Now we want to choose which columns will help our decision tree correctly classify those labels.\n",
    "\n",
    "    You could spend a lot of time playing with groups of columns to find the that work best. But for now, let’s see if we can predict where a country is based only on the colors of its flag.\n",
    "\n",
    "    Create a variable named `data` and set it equal to a DataFrame containing the following columns from `flags`:\n",
    "\n",
    "    -    `\"Red\"`\n",
    "    -    `\"Green\"`\n",
    "    -    `\"Blue\"`\n",
    "    -    `\"Gold\"`\n",
    "    -    `\"White\"`\n",
    "    -    `\"Black\"`\n",
    "    -    `\"Orange\"`\n",
    "\n"
   ]
  },
  {
   "cell_type": "code",
   "execution_count": 7,
   "id": "e7cfd121",
   "metadata": {},
   "outputs": [],
   "source": [
    "data = flags[[\"Red\", \"Green\", \"Blue\", \"Gold\", \"White\", \"Black\", \"Orange\"]]"
   ]
  },
  {
   "cell_type": "markdown",
   "id": "8d29aa6b",
   "metadata": {},
   "source": [
    "6. Finally, let’s split these DataFrames into a training set and test set using the `train_test_split()` function. This function should take `data` and `labels` as parameters. Also include the parameter `random_state = 1`.\n",
    "\n",
    "    This function returns four values. Name those values `train_data`, `test_data`, `train_labels`, and `test_labels` in that order.\n"
   ]
  },
  {
   "cell_type": "code",
   "execution_count": 8,
   "id": "4c3759ba",
   "metadata": {},
   "outputs": [],
   "source": [
    "train_data, test_data, train_labels, test_labels = train_test_split(data, labels, random_state = 1)"
   ]
  },
  {
   "cell_type": "markdown",
   "id": "93f8808e",
   "metadata": {},
   "source": [
    "## Make and Test the Model"
   ]
  },
  {
   "cell_type": "markdown",
   "id": "f9f58979",
   "metadata": {},
   "source": [
    "7. Create a `DecisionTreeClassifier` and name it `tree`. When you create the tree, give it the parameter `random_state = 1`.\n"
   ]
  },
  {
   "cell_type": "code",
   "execution_count": 9,
   "id": "31137146",
   "metadata": {},
   "outputs": [],
   "source": [
    "tree = DecisionTreeClassifier(random_state = 1)"
   ]
  },
  {
   "cell_type": "markdown",
   "id": "5ab45338",
   "metadata": {},
   "source": [
    "8. Call `tree`‘s `.fit()` method using `train_data` and `train_labels` to fit the tree to the training data."
   ]
  },
  {
   "cell_type": "code",
   "execution_count": 10,
   "id": "505f5ba0",
   "metadata": {},
   "outputs": [
    {
     "data": {
      "text/plain": [
       "DecisionTreeClassifier(random_state=1)"
      ]
     },
     "execution_count": 10,
     "metadata": {},
     "output_type": "execute_result"
    }
   ],
   "source": [
    "tree.fit(train_data, train_labels)"
   ]
  },
  {
   "cell_type": "markdown",
   "id": "7e8912e9",
   "metadata": {},
   "source": [
    "9. Call `.score()` using `test_data` and `test_labels`. Print the result.\n",
    "\n",
    "    Since there are six possible landmasses, if we randomly guessed, we’d expect to be right about 16% (100/6) of the time. Did our decision tree beat randomly guessing?\n"
   ]
  },
  {
   "cell_type": "code",
   "execution_count": 11,
   "id": "33b25590",
   "metadata": {},
   "outputs": [
    {
     "data": {
      "text/plain": [
       "0.3469387755102041"
      ]
     },
     "execution_count": 11,
     "metadata": {},
     "output_type": "execute_result"
    }
   ],
   "source": [
    "tree.score(test_data, test_labels)"
   ]
  },
  {
   "cell_type": "code",
   "execution_count": 12,
   "id": "ed023070",
   "metadata": {},
   "outputs": [],
   "source": [
    "# yes"
   ]
  },
  {
   "cell_type": "markdown",
   "id": "1d750b90",
   "metadata": {},
   "source": [
    "## Tuning the Model"
   ]
  },
  {
   "cell_type": "markdown",
   "id": "a681d96f",
   "metadata": {},
   "source": [
    "10. We now have a good baseline of how our model performs with these features. Let’s see if we can prune the tree to make it better!\n",
    "\n",
    "    Put your code that creates, trains, and tests the `tree` inside a for loop that has a variable named `i` that increases from `1` to `20`.\n",
    "\n",
    "    Inside your for loop, when you create `tree`, give it the parameter `max_depth = i`.\n",
    "\n",
    "    We’ll now see a printout of how the accuracy changes depending on how large we allow the tree to be.\n"
   ]
  },
  {
   "cell_type": "code",
   "execution_count": 13,
   "id": "d31f071d",
   "metadata": {},
   "outputs": [
    {
     "name": "stdout",
     "output_type": "stream",
     "text": [
      "0.3469387755102041\n",
      "0.22448979591836735\n",
      "0.3469387755102041\n",
      "0.32653061224489793\n",
      "0.3469387755102041\n",
      "0.3469387755102041\n",
      "0.3469387755102041\n",
      "0.3469387755102041\n",
      "0.3469387755102041\n",
      "0.3469387755102041\n",
      "0.3469387755102041\n",
      "0.3469387755102041\n",
      "0.3469387755102041\n",
      "0.3469387755102041\n",
      "0.3469387755102041\n",
      "0.3469387755102041\n",
      "0.3469387755102041\n",
      "0.3469387755102041\n",
      "0.3469387755102041\n"
     ]
    }
   ],
   "source": [
    "for i in range(1, 20):\n",
    "    tree = DecisionTreeClassifier(random_state = 1, max_depth = i)\n",
    "    tree.fit(train_data, train_labels)\n",
    "    print(tree.score(test_data, test_labels))"
   ]
  },
  {
   "cell_type": "markdown",
   "id": "30e7800c",
   "metadata": {},
   "source": [
    "11. Rather than printing the score of each tree, let’s graph it! We want the x-axis to show the depth of the tree and the y-axis to show the tree’s score.\n",
    "\n",
    "    To do this, we’ll need to create a list containing all of the scores. Before the for loop, create an empty list named `scores`. Inside the loop, instead of printing the tree’s score, use `.append()` to add it to scores.\n"
   ]
  },
  {
   "cell_type": "code",
   "execution_count": 14,
   "id": "72f31ea3",
   "metadata": {},
   "outputs": [],
   "source": [
    "scores = []\n",
    "for i in range(1, 21):\n",
    "    tree = DecisionTreeClassifier(random_state = 1, max_depth = i)\n",
    "    tree.fit(train_data, train_labels)\n",
    "    scores.append(tree.score(test_data, test_labels))"
   ]
  },
  {
   "cell_type": "markdown",
   "id": "189c836e",
   "metadata": {},
   "source": [
    "12. Let’s now plot our points. Call `plt.plot()` using two parameters. The first should be the points on the x-axis. In this case, that is `range(1, 21)`. The second should be `scores`.\n",
    "\n",
    "    Then call `plt.show()`.\n"
   ]
  },
  {
   "cell_type": "code",
   "execution_count": 15,
   "id": "62d09964",
   "metadata": {},
   "outputs": [
    {
     "data": {
      "image/png": "[encoded data removed]",
      "text/plain": [
       "<Figure size 432x288 with 1 Axes>"
      ]
     },
     "metadata": {
      "needs_background": "light"
     },
     "output_type": "display_data"
    }
   ],
   "source": [
    "plt.plot(range(1, 21), scores)\n",
    "plt.title('Guessing the landmass based on colors in flag')\n",
    "plt.xlabel('Size of Tree')\n",
    "plt.ylabel('Score')\n",
    "plt.ylim((.20,.575))\n",
    "plt.show()"
   ]
  },
  {
   "cell_type": "markdown",
   "id": "614fda6f",
   "metadata": {},
   "source": [
    "13. Our graph doesn’t really look like we would expect it to. It seems like the depth of the tree isn’t really having an impact on its performance. This might be a good indication that we’re not using enough features.\n",
    "\n",
    "    Let’s add all the features that have to do with shapes to our `data`. `data` should now be set equal to:\n",
    "\n",
    "        flags[[\"Red\", \"Green\", \"Blue\", \"Gold\", \"White\", \"Black\", \"Orange\", \"Circles\", \"Crosses\", \"Saltires\", \"Quarters\", \"Sunstars\", \"Crescent\",\"Triangle\"]]\n",
    "\n",
    "    What does your graph look like after making this change?\n"
   ]
  },
  {
   "cell_type": "code",
   "execution_count": 16,
   "id": "87fa5c92",
   "metadata": {},
   "outputs": [
    {
     "data": {
      "image/png": "[encoded data removed]",
      "text/plain": [
       "<Figure size 432x288 with 1 Axes>"
      ]
     },
     "metadata": {
      "needs_background": "light"
     },
     "output_type": "display_data"
    }
   ],
   "source": [
    "data = flags[[\"Red\", \"Green\", \"Blue\", \"Gold\", \"White\", \"Black\", \"Orange\", \"Circles\", \"Crosses\", \"Saltires\", \"Quarters\", \"Sunstars\", \"Crescent\",\"Triangle\"]]\n",
    "train_data, test_data, train_labels, test_labels = train_test_split(data, labels, random_state = 1)\n",
    "\n",
    "scores = []\n",
    "for i in range(1, 21):\n",
    "    tree = DecisionTreeClassifier(random_state = 1, max_depth = i)\n",
    "    tree.fit(train_data, train_labels)\n",
    "    scores.append(tree.score(test_data, test_labels))\n",
    "\n",
    "plt.plot(range(1, 21), scores)\n",
    "plt.title('Guessing the landmass based on colors and shapes in flag')\n",
    "plt.xlabel('Size of Tree')\n",
    "plt.ylabel('Score')\n",
    "plt.ylim((.20,.575))\n",
    "plt.show()"
   ]
  },
  {
   "cell_type": "markdown",
   "id": "c491b58e",
   "metadata": {},
   "source": [
    "## Explore on Your Own"
   ]
  },
  {
   "cell_type": "markdown",
   "id": "1958f0ff",
   "metadata": {},
   "source": [
    "14. Nice work! That graph looks more like what we’d expect. If the tree is too short, we’re underfitting and not accurately representing the training data. If the tree is too big, we’re getting too specific and relying too heavily on the training data.\n",
    "\n",
    "    There are a few different ways to extend this project:\n",
    "\n",
    "-    Try to classify something else! Rather than predicting the `\"Landmass\"` feature, could predict something like the `\"Language\"`?\n",
    "-    Find a subset of features that work better than what we’re currently using. An important note is that a feature that has categorical data won’t work very well as a feature. For example, we don’t want a decision node to split nodes based on whether the value for `\"Language\"` is above or below `5`.\n",
    "-    Tune more parameters of the model. You can find a description of all the parameters you can tune in the Decision Tree Classifier (https://scikit-learn.org/stable/modules/generated/sklearn.tree.DecisionTreeClassifier.html#sklearn.tree.DecisionTreeClassifier) documentation. For example, see what happens if you tune `max_leaf_nodes`. Think about whether you would be overfitting or underfitting the data based on how many leaf nodes you allow.\n"
   ]
  },
  {
   "cell_type": "code",
   "execution_count": 17,
   "id": "93b636d7",
   "metadata": {},
   "outputs": [
    {
     "data": {
      "image/png": "[encoded data removed]",
      "text/plain": [
       "<Figure size 432x288 with 1 Axes>"
      ]
     },
     "metadata": {
      "needs_background": "light"
     },
     "output_type": "display_data"
    },
    {
     "data": {
      "image/png": "[encoded data removed]",
      "text/plain": [
       "<Figure size 432x288 with 1 Axes>"
      ]
     },
     "metadata": {
      "needs_background": "light"
     },
     "output_type": "display_data"
    },
    {
     "data": {
      "image/png": "[encoded data removed]",
      "text/plain": [
       "<Figure size 432x288 with 1 Axes>"
      ]
     },
     "metadata": {
      "needs_background": "light"
     },
     "output_type": "display_data"
    }
   ],
   "source": [
    "data = flags[[\"Red\", \"Green\", \"Blue\", \"Gold\", \"White\", \"Black\", \"Orange\", \"Circles\", \"Crosses\", \"Saltires\", \"Quarters\", \"Sunstars\", \"Crescent\",\"Triangle\"]]\n",
    "train_data, test_data, train_labels, test_labels = train_test_split(data, labels, random_state = 1)\n",
    "\n",
    "def leafnodes(leaf_node):\n",
    "    scores = []\n",
    "    for i in range(1, 21):\n",
    "        tree = DecisionTreeClassifier(random_state = 1, max_depth = i, max_leaf_nodes = leaf_node)\n",
    "        tree.fit(train_data, train_labels)\n",
    "        scores.append(tree.score(test_data, test_labels))\n",
    "\n",
    "    plt.plot(range(1, 21), scores)\n",
    "    plt.title('Guessing the landmass based on colors and shapes in flag, leaf nodes = {}'.format(leaf_node))\n",
    "    plt.xlabel('Size of Tree')\n",
    "    plt.ylabel('Score')\n",
    "    plt.ylim((.32,.575))\n",
    "    plt.show()\n",
    "\n",
    "leafnodes(6)\n",
    "leafnodes(20)\n",
    "leafnodes(50)"
   ]
  },
  {
   "cell_type": "markdown",
   "id": "3b0c6e32",
   "metadata": {},
   "source": [
    "*The default is an unlimited number of nodes. If you decrease the number of nodes, the data gets underfit.*"
   ]
  }
 ],
 "metadata": {
  "kernelspec": {
   "display_name": "Python 3 (ipykernel)",
   "language": "python",
   "name": "python3"
  },
  "language_info": {
   "codemirror_mode": {
    "name": "ipython",
    "version": 3
   },
   "file_extension": ".py",
   "mimetype": "text/x-python",
   "name": "python",
   "nbconvert_exporter": "python",
   "pygments_lexer": "ipython3",
   "version": "3.9.7"
  }
 },
 "nbformat": 4,
 "nbformat_minor": 5
}
